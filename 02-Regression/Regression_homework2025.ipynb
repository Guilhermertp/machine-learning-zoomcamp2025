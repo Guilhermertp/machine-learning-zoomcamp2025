{
 "cells": [
  {
   "cell_type": "markdown",
   "id": "1dc01c49-3ee3-4da8-8077-f8429e89fdda",
   "metadata": {},
   "source": [
    "## Homework\n",
    "\n",
    "> Note: sometimes your answer doesn't match one of \n",
    "> the options exactly. That's fine. \n",
    "> Select the option that's closest to your solution.\n",
    "\n",
    "Solution: [homework.ipynb](homework.ipynb)\n",
    "\n",
    "### Dataset\n",
    "\n",
    "For this homework, we'll use the Car Fuel Efficiency dataset. Download it from <a href='https://raw.githubusercontent.com/alexeygrigorev/datasets/master/car_fuel_efficiency.csv'>here</a>.\n",
    "\n",
    "You can do it with wget:\n",
    "```bash\n",
    "wget https://raw.githubusercontent.com/alexeygrigorev/datasets/master/car_fuel_efficiency.csv\n",
    "```\n",
    "\n",
    "The goal of this homework is to create a regression model for predicting the car fuel efficiency (column `'fuel_efficiency_mpg'`)."
   ]
  },
  {
   "cell_type": "code",
   "execution_count": 1,
   "id": "18ce7a5a-4408-4696-a2e7-8baabdc47cd7",
   "metadata": {},
   "outputs": [],
   "source": [
    "import pandas as pd\n",
    "import numpy as np\n",
    "import matplotlib.pyplot as plt\n",
    "import seaborn as sns"
   ]
  },
  {
   "cell_type": "code",
   "execution_count": 2,
   "id": "e0594646-38c5-483e-a637-fb360c99236c",
   "metadata": {},
   "outputs": [
    {
     "data": {
      "text/html": [
       "<div>\n",
       "<style scoped>\n",
       "    .dataframe tbody tr th:only-of-type {\n",
       "        vertical-align: middle;\n",
       "    }\n",
       "\n",
       "    .dataframe tbody tr th {\n",
       "        vertical-align: top;\n",
       "    }\n",
       "\n",
       "    .dataframe thead th {\n",
       "        text-align: right;\n",
       "    }\n",
       "</style>\n",
       "<table border=\"1\" class=\"dataframe\">\n",
       "  <thead>\n",
       "    <tr style=\"text-align: right;\">\n",
       "      <th></th>\n",
       "      <th>engine_displacement</th>\n",
       "      <th>num_cylinders</th>\n",
       "      <th>horsepower</th>\n",
       "      <th>vehicle_weight</th>\n",
       "      <th>acceleration</th>\n",
       "      <th>model_year</th>\n",
       "      <th>origin</th>\n",
       "      <th>fuel_type</th>\n",
       "      <th>drivetrain</th>\n",
       "      <th>num_doors</th>\n",
       "      <th>fuel_efficiency_mpg</th>\n",
       "    </tr>\n",
       "  </thead>\n",
       "  <tbody>\n",
       "    <tr>\n",
       "      <th>0</th>\n",
       "      <td>170</td>\n",
       "      <td>3.0</td>\n",
       "      <td>159.0</td>\n",
       "      <td>3413.433759</td>\n",
       "      <td>17.7</td>\n",
       "      <td>2003</td>\n",
       "      <td>Europe</td>\n",
       "      <td>Gasoline</td>\n",
       "      <td>All-wheel drive</td>\n",
       "      <td>0.0</td>\n",
       "      <td>13.231729</td>\n",
       "    </tr>\n",
       "    <tr>\n",
       "      <th>1</th>\n",
       "      <td>130</td>\n",
       "      <td>5.0</td>\n",
       "      <td>97.0</td>\n",
       "      <td>3149.664934</td>\n",
       "      <td>17.8</td>\n",
       "      <td>2007</td>\n",
       "      <td>USA</td>\n",
       "      <td>Gasoline</td>\n",
       "      <td>Front-wheel drive</td>\n",
       "      <td>0.0</td>\n",
       "      <td>13.688217</td>\n",
       "    </tr>\n",
       "    <tr>\n",
       "      <th>2</th>\n",
       "      <td>170</td>\n",
       "      <td>NaN</td>\n",
       "      <td>78.0</td>\n",
       "      <td>3079.038997</td>\n",
       "      <td>15.1</td>\n",
       "      <td>2018</td>\n",
       "      <td>Europe</td>\n",
       "      <td>Gasoline</td>\n",
       "      <td>Front-wheel drive</td>\n",
       "      <td>0.0</td>\n",
       "      <td>14.246341</td>\n",
       "    </tr>\n",
       "    <tr>\n",
       "      <th>3</th>\n",
       "      <td>220</td>\n",
       "      <td>4.0</td>\n",
       "      <td>NaN</td>\n",
       "      <td>2542.392402</td>\n",
       "      <td>20.2</td>\n",
       "      <td>2009</td>\n",
       "      <td>USA</td>\n",
       "      <td>Diesel</td>\n",
       "      <td>All-wheel drive</td>\n",
       "      <td>2.0</td>\n",
       "      <td>16.912736</td>\n",
       "    </tr>\n",
       "    <tr>\n",
       "      <th>4</th>\n",
       "      <td>210</td>\n",
       "      <td>1.0</td>\n",
       "      <td>140.0</td>\n",
       "      <td>3460.870990</td>\n",
       "      <td>14.4</td>\n",
       "      <td>2009</td>\n",
       "      <td>Europe</td>\n",
       "      <td>Gasoline</td>\n",
       "      <td>All-wheel drive</td>\n",
       "      <td>2.0</td>\n",
       "      <td>12.488369</td>\n",
       "    </tr>\n",
       "  </tbody>\n",
       "</table>\n",
       "</div>"
      ],
      "text/plain": [
       "   engine_displacement  num_cylinders  horsepower  vehicle_weight  \\\n",
       "0                  170            3.0       159.0     3413.433759   \n",
       "1                  130            5.0        97.0     3149.664934   \n",
       "2                  170            NaN        78.0     3079.038997   \n",
       "3                  220            4.0         NaN     2542.392402   \n",
       "4                  210            1.0       140.0     3460.870990   \n",
       "\n",
       "   acceleration  model_year  origin fuel_type         drivetrain  num_doors  \\\n",
       "0          17.7        2003  Europe  Gasoline    All-wheel drive        0.0   \n",
       "1          17.8        2007     USA  Gasoline  Front-wheel drive        0.0   \n",
       "2          15.1        2018  Europe  Gasoline  Front-wheel drive        0.0   \n",
       "3          20.2        2009     USA    Diesel    All-wheel drive        2.0   \n",
       "4          14.4        2009  Europe  Gasoline    All-wheel drive        2.0   \n",
       "\n",
       "   fuel_efficiency_mpg  \n",
       "0            13.231729  \n",
       "1            13.688217  \n",
       "2            14.246341  \n",
       "3            16.912736  \n",
       "4            12.488369  "
      ]
     },
     "execution_count": 2,
     "metadata": {},
     "output_type": "execute_result"
    }
   ],
   "source": [
    "path = 'https://raw.githubusercontent.com/alexeygrigorev/datasets/master/car_fuel_efficiency.csv'\n",
    "\n",
    "df = pd.read_csv(path)\n",
    "df.head()"
   ]
  },
  {
   "cell_type": "markdown",
   "id": "cafc7720-273b-42db-8c6e-bc715d93d81d",
   "metadata": {},
   "source": [
    "### Preparing the dataset \n",
    "\n",
    "Use only the following columns:\n",
    "\n",
    "* `'engine_displacement'`,\n",
    "* `'horsepower'`,\n",
    "* `'vehicle_weight'`,\n",
    "* `'model_year'`,\n",
    "* `'fuel_efficiency_mpg'`"
   ]
  },
  {
   "cell_type": "code",
   "execution_count": 3,
   "id": "6ed5e511-fd3b-40de-8e50-5831cd113a4d",
   "metadata": {},
   "outputs": [],
   "source": [
    "df = df[['engine_displacement','horsepower','vehicle_weight','model_year','fuel_efficiency_mpg']]"
   ]
  },
  {
   "cell_type": "markdown",
   "id": "540c0569-5d9d-47f4-b5cc-3ada8d17858a",
   "metadata": {},
   "source": [
    "### EDA\n",
    "\n",
    "* Look at the `fuel_efficiency_mpg` variable. Does it have a long tail? "
   ]
  },
  {
   "cell_type": "code",
   "execution_count": 4,
   "id": "fcd358ad-5e93-4ed4-8726-163f7df5e1c3",
   "metadata": {},
   "outputs": [
    {
     "data": {
      "image/png": "[encoded data removed]",
      "text/plain": [
       "<Figure size 640x480 with 1 Axes>"
      ]
     },
     "metadata": {},
     "output_type": "display_data"
    }
   ],
   "source": [
    "sns.histplot(df['fuel_efficiency_mpg'])\n",
    "plt.show()"
   ]
  },
  {
   "cell_type": "markdown",
   "id": "3386441a-05d9-4243-83e9-3d96eb5944cb",
   "metadata": {},
   "source": [
    "The fuel_efficiency_mpg has a normal distribution!!!"
   ]
  },
  {
   "cell_type": "markdown",
   "id": "3596eb24-07b8-4cd7-afa9-6df3208accbc",
   "metadata": {},
   "source": [
    "### Question 1\n",
    "\n",
    "There's one column with missing values. What is it?\n",
    "\n",
    "* `'engine_displacement'`\n",
    "* `'horsepower'`\n",
    "* `'vehicle_weight'`\n",
    "* `'model_year'`"
   ]
  },
  {
   "cell_type": "code",
   "execution_count": 5,
   "id": "d33e0abf-97e6-4084-bf18-d147c39f1592",
   "metadata": {},
   "outputs": [
    {
     "data": {
      "text/plain": [
       "engine_displacement      0\n",
       "horsepower             708\n",
       "vehicle_weight           0\n",
       "model_year               0\n",
       "fuel_efficiency_mpg      0\n",
       "dtype: int64"
      ]
     },
     "execution_count": 5,
     "metadata": {},
     "output_type": "execute_result"
    }
   ],
   "source": [
    "#checking the null values\n",
    "df.isnull().sum()"
   ]
  },
  {
   "cell_type": "markdown",
   "id": "86a59a03-e89d-4ba5-a806-012aed9a0ee9",
   "metadata": {},
   "source": [
    "### Question 2\n",
    "\n",
    "What's the median (50% percentile) for variable `'horsepower'`?\n",
    "\n",
    "- 49\n",
    "- 99\n",
    "- 149\n",
    "- 199\n",
    "\n"
   ]
  },
  {
   "cell_type": "code",
   "execution_count": 6,
   "id": "8cb8a99f-614a-470b-baf1-340de26a536b",
   "metadata": {},
   "outputs": [
    {
     "data": {
      "text/plain": [
       "149.0"
      ]
     },
     "execution_count": 6,
     "metadata": {},
     "output_type": "execute_result"
    }
   ],
   "source": [
    "#get the median for variable 'ram'\n",
    "df['horsepower'].median()"
   ]
  },
  {
   "cell_type": "markdown",
   "id": "cf80ed6c-edc2-40a1-9cfb-5fe5770cc9a2",
   "metadata": {},
   "source": [
    "### Prepare and split the dataset\n",
    "\n",
    "* Shuffle the dataset (the filtered one you created above), use seed `42`.\n",
    "* Split your data in train/val/test sets, with 60%/20%/20% distribution.\n",
    "\n",
    "Use the same code as in the lectures"
   ]
  },
  {
   "cell_type": "code",
   "execution_count": 7,
   "id": "2ce32b06-4ed3-43c6-9c42-0e8f618332d7",
   "metadata": {},
   "outputs": [],
   "source": [
    "# get the n elements of the dataframe\n",
    "n = len(df)\n",
    "\n",
    "#number of elements for the validation dataset\n",
    "n_val = int(n*0.2)\n",
    "#number of elements for the test dataset\n",
    "n_test = int(n*0.2)\n",
    "#number of elements for the training dataset\n",
    "n_train = n - (n_val + n_test)\n",
    "#create an array of the n elements of the dataframe\n",
    "df_index = np.arange(n)\n",
    "\n",
    "#ensuring the same random numbers on every run\n",
    "np.random.seed(42)\n",
    "#shuffle the index\n",
    "np.random.shuffle(df_index)"
   ]
  },
  {
   "cell_type": "code",
   "execution_count": 8,
   "id": "c45bfa96-0775-474a-bfd8-ddf0e2fb478a",
   "metadata": {},
   "outputs": [
    {
     "data": {
      "text/plain": [
       "9704"
      ]
     },
     "execution_count": 8,
     "metadata": {},
     "output_type": "execute_result"
    }
   ],
   "source": [
    "num_rows= df.shape[0]\n",
    "num_rows"
   ]
  },
  {
   "cell_type": "code",
   "execution_count": 9,
   "id": "4a681435-d346-4184-aff6-d15e14b7c23d",
   "metadata": {},
   "outputs": [
    {
     "data": {
      "text/plain": [
       "5822.4"
      ]
     },
     "execution_count": 9,
     "metadata": {},
     "output_type": "execute_result"
    }
   ],
   "source": [
    "#train dataset will be 60%\n",
    "num_rows * 0.6"
   ]
  },
  {
   "cell_type": "code",
   "execution_count": 10,
   "id": "f3503567-40e7-4687-84c5-a048a32742f7",
   "metadata": {},
   "outputs": [
    {
     "data": {
      "text/plain": [
       "1940.8000000000002"
      ]
     },
     "execution_count": 10,
     "metadata": {},
     "output_type": "execute_result"
    }
   ],
   "source": [
    "#val and test will be 20%\n",
    "num_rows * 0.2"
   ]
  },
  {
   "cell_type": "code",
   "execution_count": 11,
   "id": "4cb82b5f-4804-4cf3-9456-b611e61078b6",
   "metadata": {},
   "outputs": [],
   "source": [
    "# the first 2160 records will be used for training\n",
    "df_train = df.iloc[df_index[:n_train]]\n",
    "# validation set of the dataset\n",
    "df_val = df.iloc[df_index[n_train:n_train+n_val]]\n",
    "# test set of the dataset\n",
    "df_test = df.iloc[df_index[n_train+n_val:]]"
   ]
  },
  {
   "cell_type": "code",
   "execution_count": 12,
   "id": "829f2d9a-3a7b-4d04-90b4-67b28d1d3f57",
   "metadata": {},
   "outputs": [],
   "source": [
    "#when we don't need the index column we can drop it since we are creating a new index because the old index due to the shuffle was not sorted\n",
    "df_train = df_train.reset_index(drop = True)\n",
    "df_val = df_val.reset_index(drop = True)\n",
    "df_test = df_test.reset_index(drop = True)"
   ]
  },
  {
   "cell_type": "code",
   "execution_count": 13,
   "id": "a8e22d7e-96b0-46e7-b520-2e523bddddb4",
   "metadata": {},
   "outputs": [],
   "source": [
    "#transform the y and get a numpy array using the .values otherwise would be a pandas series\n",
    "y_train = df_train.fuel_efficiency_mpg.values\n",
    "y_val = df_val.fuel_efficiency_mpg.values\n",
    "y_test = df_val.fuel_efficiency_mpg.values"
   ]
  },
  {
   "cell_type": "code",
   "execution_count": 14,
   "id": "e4ec7d69-003e-4948-83b7-f94d44817d39",
   "metadata": {},
   "outputs": [
    {
     "data": {
      "text/plain": [
       "(5824,)"
      ]
     },
     "execution_count": 14,
     "metadata": {},
     "output_type": "execute_result"
    }
   ],
   "source": [
    "y_train.shape"
   ]
  },
  {
   "cell_type": "code",
   "execution_count": 15,
   "id": "c75db356-7001-46cb-a754-54bec31276e2",
   "metadata": {},
   "outputs": [
    {
     "data": {
      "text/plain": [
       "(5824, 5)"
      ]
     },
     "execution_count": 15,
     "metadata": {},
     "output_type": "execute_result"
    }
   ],
   "source": [
    "df_train.shape"
   ]
  },
  {
   "cell_type": "code",
   "execution_count": 16,
   "id": "1efa3f7b-8e36-451a-9363-cac1fc00d7f3",
   "metadata": {},
   "outputs": [],
   "source": [
    "#delete the y from the datafram in order to avoid future mistakes\n",
    "#better to do right away to not forget and by accident use it for training\n",
    "del df_train['fuel_efficiency_mpg']\n",
    "del df_val['fuel_efficiency_mpg']\n",
    "del df_test['fuel_efficiency_mpg']"
   ]
  },
  {
   "cell_type": "markdown",
   "id": "1fb793d1-afac-4750-b3df-3648a4c3a056",
   "metadata": {},
   "source": [
    "### Question 3\n",
    "\n",
    "* We need to deal with missing values for the column from Q1.\n",
    "* We have two options: fill it with 0 or with the mean of this variable.\n",
    "* Try both options. For each, train a linear regression model without regularization using the code from the lessons.\n",
    "* For computing the mean, use the training only!\n",
    "* Use the validation dataset to evaluate the models and compare the RMSE of each option.\n",
    "* Round the RMSE scores to 2 decimal digits using `round(score, 2)`\n",
    "* Which option gives better RMSE?\n",
    "\n",
    "Options:\n",
    "\n",
    "- With 0\n",
    "- With mean\n",
    "- Both are equally good"
   ]
  },
  {
   "cell_type": "code",
   "execution_count": 22,
   "id": "d71cb5e1-468c-4a39-8402-fbd9d2d05223",
   "metadata": {},
   "outputs": [],
   "source": [
    "#train linear regression without regularization\n",
    "def train_linear_regression(X, y):\n",
    "  ones = np.ones(X.shape[0])\n",
    "  X = np.column_stack([ones, X])\n",
    "\n",
    "  XTX = X.T.dot(X)\n",
    "  XTX_inv = np.linalg.inv(XTX)\n",
    "  w_full = XTX_inv.dot(X.T).dot(y)\n",
    "\n",
    "  return w_full[0],w_full[1:]"
   ]
  },
  {
   "cell_type": "code",
   "execution_count": 23,
   "id": "f4977d75-27be-4975-9840-75ae990d0ae7",
   "metadata": {},
   "outputs": [],
   "source": [
    "def prepare_X(df,fillna_value):\n",
    "  #defines what value we are going to use to fill the null values  \n",
    "  df = df.fillna(fillna_value)\n",
    "  X = df.values\n",
    "  return X"
   ]
  },
  {
   "cell_type": "code",
   "execution_count": 24,
   "id": "9bc2361b-a296-491b-8ffe-764cb92302d4",
   "metadata": {},
   "outputs": [],
   "source": [
    "def rmse(y, y_pred):\n",
    "  error = y -y_pred\n",
    "  se = error ** 2\n",
    "  mse = se.mean()\n",
    "  return np.sqrt(mse)"
   ]
  },
  {
   "cell_type": "code",
   "execution_count": 25,
   "id": "b2084ee6-f162-4418-adf2-176dafb6c801",
   "metadata": {},
   "outputs": [
    {
     "data": {
      "text/plain": [
       "0.52"
      ]
     },
     "execution_count": 25,
     "metadata": {},
     "output_type": "execute_result"
    }
   ],
   "source": [
    "# with zero\n",
    "X_train = prepare_X(df_train,fillna_value=0)\n",
    "w0, w = train_linear_regression(X_train, y_train)\n",
    "\n",
    "X_val = prepare_X(df_val, fillna_value=0)\n",
    "y_pred = w0 + X_val.dot(w)\n",
    "\n",
    "score = rmse(y_val, y_pred)\n",
    "round(score, 2)"
   ]
  },
  {
   "cell_type": "code",
   "execution_count": 26,
   "id": "0fdd05b9-5cbe-4cce-a174-09dff1e0ebac",
   "metadata": {},
   "outputs": [
    {
     "data": {
      "text/plain": [
       "0.46"
      ]
     },
     "execution_count": 26,
     "metadata": {},
     "output_type": "execute_result"
    }
   ],
   "source": [
    "mean = df_train.horsepower.mean()\n",
    "\n",
    "# with mean\n",
    "X_train = prepare_X(df_train,fillna_value=mean)\n",
    "w0, w = train_linear_regression(X_train, y_train)\n",
    "\n",
    "X_val = prepare_X(df_val, fillna_value=mean)\n",
    "y_pred = w0 + X_val.dot(w)\n",
    "\n",
    "score = rmse(y_val, y_pred)\n",
    "round(score, 2)"
   ]
  },
  {
   "cell_type": "markdown",
   "id": "08ffb193-be0b-434d-a5f3-bae4038a8d2c",
   "metadata": {},
   "source": [
    "It is <u>better to fill the null values with <b>zeros</b></u> , the root mean standard error of filling with zeros VS the mean is the following: 0.52 VS 0.46"
   ]
  },
  {
   "cell_type": "markdown",
   "id": "ee68dd58-443c-404f-96f0-4604da64ca26",
   "metadata": {},
   "source": [
    "### Question 4\n",
    "\n",
    "* Now let's train a regularized linear regression.\n",
    "* For this question, fill the NAs with 0. \n",
    "* Try different values of `r` from this list: `[0, 0.01, 0.1, 1, 5, 10, 100]`.\n",
    "* Use RMSE to evaluate the model on the validation dataset.\n",
    "* Round the RMSE scores to 2 decimal digits.\n",
    "* Which `r` gives the best RMSE?\n",
    "\n",
    "If there are multiple options, select the smallest `r`.\n",
    "\n",
    "Options:\n",
    "\n",
    "- 0\n",
    "- 0.01\n",
    "- 1\n",
    "- 10\n",
    "- 100"
   ]
  },
  {
   "cell_type": "code",
   "execution_count": 27,
   "id": "ec1e490b-c859-4fce-9834-ea56a9ff9cbb",
   "metadata": {},
   "outputs": [],
   "source": [
    "def train_linear_regression_reg(X, y, r=0):\n",
    "  ones = np.ones(X.shape[0])\n",
    "  X = np.column_stack([ones, X])\n",
    "\n",
    "  XTX = X.T.dot(X)\n",
    "  #regularization of the Gram matrix\n",
    "  XTX = XTX + r * np.eye(XTX.shape[0])\n",
    "    \n",
    "  XTX_inv = np.linalg.inv(XTX)\n",
    "  w_full = XTX_inv.dot(X.T).dot(y)\n",
    "\n",
    "  return w_full[0],w_full[1:]"
   ]
  },
  {
   "cell_type": "code",
   "execution_count": 29,
   "id": "c2dcdaa3-ba70-495c-898b-bfb628231329",
   "metadata": {},
   "outputs": [
    {
     "name": "stdout",
     "output_type": "stream",
     "text": [
      "0 28.827365474598718 0.5174\n",
      "0.01 24.926838421084422 0.5171\n",
      "0.1 11.239661085047366 0.5188\n",
      "1 1.7315979412398264 0.5222\n",
      "5 0.36380750207153073 0.5229\n",
      "10 0.18306246622476907 0.523\n",
      "100 0.01841801730804525 0.5231\n"
     ]
    }
   ],
   "source": [
    "#regularization values to test\n",
    "for r in [0, 0.01, 0.1, 1, 5, 10, 100]:\n",
    "    # with zero\n",
    "    X_train = prepare_X(df_train,fillna_value=0)\n",
    "    w0, w = train_linear_regression_reg(X_train, y_train, r=r)\n",
    "    \n",
    "    X_val = prepare_X(df_val, fillna_value=0)\n",
    "    y_pred = w0 + X_val.dot(w)\n",
    "    \n",
    "    score =rmse(y_val, y_pred)\n",
    "    \n",
    "    print(r, w0, round(score, 4))"
   ]
  },
  {
   "cell_type": "markdown",
   "id": "7daa18cf-6077-459e-9a60-0a5afb2e9d94",
   "metadata": {},
   "source": [
    "<b>100</b> is the r that gives the best RMSE"
   ]
  },
  {
   "cell_type": "markdown",
   "id": "d7053968-2bcf-44e2-97cd-46e9a5869e5b",
   "metadata": {},
   "source": [
    "### Question 5 \n",
    "\n",
    "* We used seed 42 for splitting the data. Let's find out how selecting the seed influences our score.\n",
    "* Try different seed values: `[0, 1, 2, 3, 4, 5, 6, 7, 8, 9]`.\n",
    "* For each seed, do the train/validation/test split with 60%/20%/20% distribution.\n",
    "* Fill the missing values with 0 and train a model without regularization.\n",
    "* For each seed, evaluate the model on the validation dataset and collect the RMSE scores. \n",
    "* What's the standard deviation of all the scores? To compute the standard deviation, use `np.std`.\n",
    "* Round the result to 3 decimal digits (`round(std, 3)`)\n",
    "\n",
    "What's the value of std?\n",
    "\n",
    "- 0.001\n",
    "- 0.006\n",
    "- 0.060\n",
    "- 0.600\n",
    "\n",
    "> Note: Standard deviation shows how different the values are.\n",
    "> If it's low, then all values are approximately the same.\n",
    "> If it's high, the values are different. \n",
    "> If standard deviation of scores is low, then our model is *stable*."
   ]
  },
  {
   "cell_type": "code",
   "execution_count": 31,
   "id": "cff40bc2-2f95-45f7-9475-46e9dce7e0b8",
   "metadata": {},
   "outputs": [
    {
     "name": "stdout",
     "output_type": "stream",
     "text": [
      "RMSEs: [0.5206531296297207, 0.5213388912866506, 0.5228069974913666, 0.5159516741255491, 0.5109129460116937, 0.5283406460212935, 0.5313910658190373, 0.509067038739038, 0.5147399129482789, 0.513186590829269]\n"
     ]
    }
   ],
   "source": [
    "\n",
    "\n",
    "def run_experiment(df, df_index, n_train, n_val, seed):\n",
    "\n",
    "    # get the n elements of the dataframe\n",
    "    n = len(df)\n",
    "    \n",
    "    #number of elements for the validation dataset\n",
    "    n_val = int(n*0.2)\n",
    "    #number of elements for the test dataset\n",
    "    n_test = int(n*0.2)\n",
    "    #number of elements for the training dataset\n",
    "    n_train = n - (n_val + n_test)\n",
    "    #create an array of the n elements of the dataframe\n",
    "    df_index = np.arange(n)\n",
    "    #IF I DON'T USE THE CODE ABOVE I WOULD HAVE THE WRONG ANSWER LIKE IT HAPPENED!!!\n",
    "    \n",
    "    # set seed for reproducibility\n",
    "    np.random.seed(seed)\n",
    "    \n",
    "    # shuffle the index\n",
    "    np.random.shuffle(df_index)\n",
    "    \n",
    "    # split train, val, test\n",
    "    df_train = df.iloc[df_index[:n_train]].reset_index(drop=True)\n",
    "    df_val   = df.iloc[df_index[n_train:n_train+n_val]].reset_index(drop=True)\n",
    "    df_test  = df.iloc[df_index[n_train+n_val:]].reset_index(drop=True)\n",
    "    \n",
    "    # target variables\n",
    "    y_train = df_train.fuel_efficiency_mpg.values\n",
    "    y_val   = df_val.fuel_efficiency_mpg.values\n",
    "    y_test  = df_test.fuel_efficiency_mpg.values\n",
    "    \n",
    "    # remove target from features\n",
    "    df_train = df_train.drop(columns=[\"fuel_efficiency_mpg\"])\n",
    "    df_val   = df_val.drop(columns=[\"fuel_efficiency_mpg\"])\n",
    "    df_test  = df_test.drop(columns=[\"fuel_efficiency_mpg\"])\n",
    "    \n",
    "    # prepare features\n",
    "    X_train = prepare_X(df_train, fillna_value=0)\n",
    "    w0, w   = train_linear_regression(X_train, y_train)\n",
    "    \n",
    "    # validation prediction\n",
    "    X_val = prepare_X(df_val, fillna_value=0)\n",
    "    y_pred = w0 + X_val.dot(w)\n",
    "    \n",
    "    # compute rmse\n",
    "    return rmse(y_val, y_pred)\n",
    "\n",
    "# run for seeds 0–9\n",
    "seeds = list(range(10))\n",
    "rmses = [run_experiment(df, df_index.copy(), n_train, n_val, s) for s in seeds]\n",
    "\n",
    "print(\"RMSEs:\", rmses)"
   ]
  },
  {
   "cell_type": "code",
   "execution_count": 32,
   "id": "147c3f10-e09d-4796-833b-aa6d1b09f5ef",
   "metadata": {},
   "outputs": [
    {
     "data": {
      "text/plain": [
       "0.006989446427824928"
      ]
     },
     "execution_count": 32,
     "metadata": {},
     "output_type": "execute_result"
    }
   ],
   "source": [
    "std_rmse=np.std(rmses)\n",
    "std_rmse"
   ]
  },
  {
   "cell_type": "code",
   "execution_count": 33,
   "id": "3c01dc95-68c3-459e-bea0-e34101b0cd28",
   "metadata": {},
   "outputs": [
    {
     "data": {
      "text/plain": [
       "0.007"
      ]
     },
     "execution_count": 33,
     "metadata": {},
     "output_type": "execute_result"
    }
   ],
   "source": [
    "round(std_rmse, 3)"
   ]
  },
  {
   "cell_type": "markdown",
   "id": "5218e8b8-4fc3-446d-b176-5654ce18b84b",
   "metadata": {},
   "source": [
    "### Question 6\n",
    "\n",
    "* Split the dataset like previously, use seed 9.\n",
    "* Combine train and validation datasets.\n",
    "* Fill the missing values with 0 and train a model with `r=0.001`. \n",
    "* What's the RMSE on the test dataset?\n",
    "\n",
    "Options:\n",
    "\n",
    "- 0.15\n",
    "- 0.515\n",
    "- 5.15\n",
    "- 51.5"
   ]
  },
  {
   "cell_type": "code",
   "execution_count": 34,
   "id": "8e4bb694-fd57-449a-880e-4f1f75dbba3d",
   "metadata": {},
   "outputs": [],
   "source": [
    "# get the n elements of the dataframe\n",
    "n = len(df)\n",
    "\n",
    "#number of elements for the validation dataset\n",
    "n_val = int(n*0.2)\n",
    "#number of elements for the test dataset\n",
    "n_test = int(n*0.2)\n",
    "#number of elements for the training dataset\n",
    "n_train = n - (n_val + n_test)\n",
    "#create an array of the n elements of the dataframe\n",
    "df_index = np.arange(n)\n",
    "\n",
    "\n",
    "# set seed for reproducibility\n",
    "np.random.seed(9)\n",
    "\n",
    "# shuffle the index\n",
    "np.random.shuffle(df_index)\n",
    "\n",
    "# split train, val, test\n",
    "df_train = df.iloc[df_index[:n_train]].reset_index(drop=True)\n",
    "df_val   = df.iloc[df_index[n_train:n_train+n_val]].reset_index(drop=True)\n",
    "df_test  = df.iloc[df_index[n_train+n_val:]].reset_index(drop=True)\n",
    "\n",
    "# target variables\n",
    "y_train = df_train.fuel_efficiency_mpg.values\n",
    "y_val   = df_val.fuel_efficiency_mpg.values\n",
    "y_test  = df_test.fuel_efficiency_mpg.values\n",
    "\n",
    "# remove target from features\n",
    "df_train = df_train.drop(columns=[\"fuel_efficiency_mpg\"])\n",
    "df_val   = df_val.drop(columns=[\"fuel_efficiency_mpg\"])\n",
    "df_test  = df_test.drop(columns=[\"fuel_efficiency_mpg\"])\n",
    "\n",
    "#the full dataset (training and validation)\n",
    "df_full_train = pd.concat([df_train, df_val])\n",
    "df_full_train = df_full_train.reset_index(drop=True)\n",
    "y_full_train = np.concatenate([y_train, y_val])"
   ]
  },
  {
   "cell_type": "code",
   "execution_count": 37,
   "id": "5857daf1-88ca-4ef0-bb2c-6196104c3039",
   "metadata": {},
   "outputs": [
    {
     "data": {
      "text/plain": [
       "0.5156"
      ]
     },
     "execution_count": 37,
     "metadata": {},
     "output_type": "execute_result"
    }
   ],
   "source": [
    "# prepare features\n",
    "X_full_train = prepare_X(df_full_train, fillna_value=0)\n",
    "w0, w = train_linear_regression_reg(X_full_train, y_full_train, r=0.001)\n",
    "# validation prediction\n",
    "X_test = prepare_X(df_test, fillna_value=0)\n",
    "y_pred = w0 + X_test.dot(w)\n",
    "\n",
    "# compute rmse\n",
    "round(rmse(y_test, y_pred),4)"
   ]
  }
 ],
 "metadata": {
  "kernelspec": {
   "display_name": "Python 3 (ipykernel)",
   "language": "python",
   "name": "python3"
  },
  "language_info": {
   "codemirror_mode": {
    "name": "ipython",
    "version": 3
   },
   "file_extension": ".py",
   "mimetype": "text/x-python",
   "name": "python",
   "nbconvert_exporter": "python",
   "pygments_lexer": "ipython3",
   "version": "3.12.0"
  }
 },
 "nbformat": 4,
 "nbformat_minor": 5
}
